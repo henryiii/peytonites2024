{
 "cells": [
  {
   "cell_type": "markdown",
   "id": "5cc5d970-506b-4201-829a-a4234f782e7c",
   "metadata": {},
   "source": [
    "# Installation\n",
    "\n",
    "To install this package please follow these steps:\n",
    "```\n",
    "# Clone repo and cd into it\n",
    "git clone https://github.com/robelgeda/peytonites2024.git\n",
    "cd peytonites2024\n",
    "\n",
    "# Install the \"peytonites\" conda env\n",
    "conda env create -f environment.yml\n",
    "\n",
    "# Activate peytonites conda env\n",
    "conda activate peytonites\n",
    "\n",
    "# Install helper functions in this repo\n",
    "# The package is also called peytonites\n",
    "python setup.py develope\n",
    "\n",
    "```"
   ]
  }
 ],
 "metadata": {
  "kernelspec": {
   "display_name": "Python 3 (ipykernel)",
   "language": "python",
   "name": "python3"
  },
  "language_info": {
   "codemirror_mode": {
    "name": "ipython",
    "version": 3
   },
   "file_extension": ".py",
   "mimetype": "text/x-python",
   "name": "python",
   "nbconvert_exporter": "python",
   "pygments_lexer": "ipython3",
   "version": "3.10.14"
  }
 },
 "nbformat": 4,
 "nbformat_minor": 5
}
