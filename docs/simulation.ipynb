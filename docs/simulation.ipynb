{
 "cells": [
  {
   "cell_type": "markdown",
   "id": "f982b362",
   "metadata": {},
   "source": [
    "# Simulations"
   ]
  },
  {
   "cell_type": "code",
   "execution_count": null,
   "id": "9a4a8689",
   "metadata": {},
   "outputs": [],
   "source": [
    "import os\n",
    "from os import path \n",
    "from time import time\n",
    "\n",
    "import numpy as np \n",
    "\n",
    "from astropy import units as u \n",
    "from astropy import constants as const "
   ]
  },
  {
   "cell_type": "code",
   "execution_count": null,
   "id": "d054fb7d",
   "metadata": {},
   "outputs": [],
   "source": [
    "%matplotlib inline \n",
    "import matplotlib.pyplot as plt\n",
    "import matplotlib.patches as patches\n",
    "plt.rcParams['figure.figsize'] = [6, 6]\n",
    "plt.rcParams['image.origin'] = 'lower'\n",
    "plt.rcParams['font.size'] = 12"
   ]
  },
  {
   "cell_type": "code",
   "execution_count": null,
   "id": "b009dbb2",
   "metadata": {},
   "outputs": [],
   "source": [
    "import peytonites\n",
    "from peytonites import (\n",
    "    Distribution, SimState,\n",
    "    kpc_to_cm, cm_to_kpc, \n",
    "    lyr_to_cm, cm_to_lyr, \n",
    "    au_to_cm, cm_to_au\n",
    ")"
   ]
  },
  {
   "cell_type": "markdown",
   "id": "d378d1b3",
   "metadata": {},
   "source": [
    "## Inital Conditions\n",
    "\n",
    "### Load Inital Condition"
   ]
  },
  {
   "cell_type": "code",
   "execution_count": null,
   "id": "d807699a",
   "metadata": {},
   "outputs": [],
   "source": [
    "sim_init_cond = SimState.read('data/solar_system_10000step_init.dat')"
   ]
  },
  {
   "cell_type": "markdown",
   "id": "a5f28d08",
   "metadata": {},
   "source": [
    "## Traditional Simulation"
   ]
  },
  {
   "cell_type": "code",
   "execution_count": null,
   "id": "d3af486b",
   "metadata": {},
   "outputs": [],
   "source": [
    "def traditional_simulation(sim_init_cond, out_dir, verbose=True):\n",
    "    \n",
    "    G = sim_init_cond.G # cm^3 / (g s^2)\n",
    "    dt = sim_init_cond.dt\n",
    "    nsteps = sim_init_cond.nsteps\n",
    "    out_interval = sim_init_cond.out_interval\n",
    "    soft = sim_init_cond.soft\n",
    "    \n",
    "    init_dist = sim_init_cond.distribution\n",
    "    \n",
    "    number_particles = init_dist.N\n",
    "    \n",
    "    x_arr = init_dist.x.copy()\n",
    "    y_arr = init_dist.y.copy()\n",
    "    z_arr = init_dist.z.copy()\n",
    "    \n",
    "    vx_arr = init_dist.vx.copy()\n",
    "    vy_arr = init_dist.vy.copy()\n",
    "    vz_arr = init_dist.vz.copy()\n",
    "    \n",
    "    mass_arr = init_dist.m.copy()\n",
    "    #----------------------------------------\n",
    "    for step in range(nsteps): \n",
    "        ax_arr = np.zeros_like(x_arr)\n",
    "        ay_arr = np.zeros_like(x_arr)\n",
    "        az_arr = np.zeros_like(x_arr)\n",
    "\n",
    "        for i in range(number_particles):\n",
    "            ax, ay, az = 0., 0., 0.\n",
    "            xi, yi, zi = x_arr[i], y_arr[i], z_arr[i]\n",
    "\n",
    "            for j in range(number_particles):\n",
    "                if i == j:\n",
    "                    continue\n",
    "\n",
    "                dx = xi - x_arr[j]\n",
    "                dy = yi - y_arr[j]\n",
    "                dz = zi - z_arr[j]\n",
    "\n",
    "                r_ij_squared = dx**2 + dy**2 + dz**2 + soft**2\n",
    "                r_ij = np.sqrt(r_ij_squared)\n",
    "                r_ij_cubed = r_ij_squared * r_ij\n",
    "\n",
    "                mj = mass_arr[j]\n",
    "                a = - (G * mj) / r_ij_cubed\n",
    "\n",
    "                ax += a * dx \n",
    "                ay += a * dy \n",
    "                az += a * dz \n",
    "\n",
    "            ax_arr[i] = ax \n",
    "            ay_arr[i] = ay\n",
    "            az_arr[i] = az\n",
    "\n",
    "        \n",
    "        for i in range(number_particles):\n",
    "\n",
    "            vx_arr[i] += ax_arr[i] * dt\n",
    "            vy_arr[i] += ay_arr[i] * dt\n",
    "            vz_arr[i] += az_arr[i] * dt\n",
    "\n",
    "\n",
    "            x_arr[i] += vx_arr[i] * dt\n",
    "            y_arr[i] += vy_arr[i] * dt\n",
    "            z_arr[i] += vz_arr[i] * dt\n",
    "    #----------------------------------------\n",
    "\n",
    "        if step % out_interval == 0:\n",
    "            if verbose:\n",
    "                print(step)\n",
    "            \n",
    "            step_params = sim_init_cond.copy()\n",
    "            if step > 0:\n",
    "                step_dist = Distribution.from_arrays(\n",
    "                    x_arr, y_arr, z_arr, \n",
    "                    vx_arr, vy_arr, vz_arr,\n",
    "                    mass_arr, name=init_dist.name)\n",
    "\n",
    "                step_params = sim_init_cond.copy()\n",
    "                step_params.distribution = step_dist                \n",
    "            \n",
    "            step_filename = 'step_{:08d}.dat'.format(step)\n",
    "            step_path = path.join(out_dir, step_filename)\n",
    "            \n",
    "            if not os.path.isdir(out_dir):\n",
    "                os.makedirs(out_dir)\n",
    "            \n",
    "            step_params.write(step_path)\n",
    "            \n",
    "    if verbose:\n",
    "        print(step)\n",
    "    return \n",
    "    "
   ]
  },
  {
   "cell_type": "markdown",
   "id": "82672dd5",
   "metadata": {},
   "source": [
    "### Define Output Dir\n",
    "\n",
    "Make sure to have a `simout` in the name for git ignore"
   ]
  },
  {
   "cell_type": "code",
   "execution_count": null,
   "id": "bf522447",
   "metadata": {},
   "outputs": [],
   "source": [
    "out_dir = './solar_system_simout'"
   ]
  },
  {
   "cell_type": "code",
   "execution_count": null,
   "id": "b161074e",
   "metadata": {},
   "outputs": [],
   "source": [
    "tstart = time()\n",
    "traditional_simulation(sim_init_cond, out_dir, verbose=False)\n",
    "tend = time()\n",
    "\n",
    "traditional_run_time = (tend-tstart)*u.s\n",
    "print('done', 'traditional_run_time:', traditional_run_time)"
   ]
  },
  {
   "cell_type": "markdown",
   "id": "56f4ae31",
   "metadata": {},
   "source": [
    "## Vector Simulation\n",
    "\n",
    "**Running this will replace/overwrite the last outputs**\n",
    "\n",
    "Using vectorized operations in this implementation significantly reduces computation time compared to the double for-loop, but at the cost of massively increased memory usage due to storing large intermediate arrays for pairwise distances and accelerations.\n",
    "\n"
   ]
  },
  {
   "cell_type": "code",
   "execution_count": null,
   "id": "e0d38e57",
   "metadata": {},
   "outputs": [],
   "source": [
    "def vector_simulation(sim_init_cond, out_dir, verbose=True):\n",
    "    \n",
    "    G = sim_init_cond.G # cm^3 / (g s^2)\n",
    "    dt = sim_init_cond.dt\n",
    "    nsteps = sim_init_cond.nsteps\n",
    "    out_interval = sim_init_cond.out_interval\n",
    "    soft = sim_init_cond.soft\n",
    "    \n",
    "    init_dist = sim_init_cond.distribution\n",
    "    \n",
    "    number_particles = init_dist.N\n",
    "    \n",
    "    x_arr = init_dist.x.copy()\n",
    "    y_arr = init_dist.y.copy()\n",
    "    z_arr = init_dist.z.copy()\n",
    "    \n",
    "    vx_arr = init_dist.vx.copy()\n",
    "    vy_arr = init_dist.vy.copy()\n",
    "    vz_arr = init_dist.vz.copy()\n",
    "    \n",
    "    mass_arr = init_dist.m.copy()\n",
    "    #----------------------------------------\n",
    "    for step in range(nsteps): \n",
    "        dx = x_arr[:, np.newaxis] - x_arr\n",
    "        dy = y_arr[:, np.newaxis] - y_arr\n",
    "        dz = z_arr[:, np.newaxis] - z_arr\n",
    "        \n",
    "        # Avoid division by zero by adding softening length\n",
    "        r_squared = dx**2 + dy**2 + dz**2 + soft**2\n",
    "        np.fill_diagonal(r_squared, 1)  # Avoid self-interaction\n",
    "        \n",
    "        r = np.sqrt(r_squared)\n",
    "        r_cubed = r_squared * r\n",
    "        \n",
    "        # Compute accelerations\n",
    "        a = -G * mass_arr / r_cubed\n",
    "        np.fill_diagonal(a, 0)  \n",
    "        ax_arr = np.sum(a * dx, axis=1)\n",
    "        ay_arr = np.sum(a * dy, axis=1)\n",
    "        az_arr = np.sum(a * dz, axis=1)\n",
    "        \n",
    "        \n",
    "        # Update velocities and positions\n",
    "        vx_arr += ax_arr * dt\n",
    "        vy_arr += ay_arr * dt\n",
    "        vz_arr += az_arr * dt\n",
    "        \n",
    "        x_arr += vx_arr * dt\n",
    "        y_arr += vy_arr * dt\n",
    "        z_arr += vz_arr * dt\n",
    "    #----------------------------------------\n",
    "\n",
    "        if step % out_interval == 0:\n",
    "            if verbose:\n",
    "                print(step)\n",
    "            \n",
    "            step_params = sim_init_cond.copy()\n",
    "            if step > 0:\n",
    "                step_dist = Distribution.from_arrays(\n",
    "                    x_arr, y_arr, z_arr, \n",
    "                    vx_arr, vy_arr, vz_arr,\n",
    "                    mass_arr, name=init_dist.name)\n",
    "\n",
    "                step_params = sim_init_cond.copy()\n",
    "                step_params.distribution = step_dist                \n",
    "            \n",
    "            step_filename = 'step_{:08d}.dat'.format(step)\n",
    "            step_path = path.join(out_dir, step_filename)\n",
    "            \n",
    "            if not os.path.isdir(out_dir):\n",
    "                os.makedirs(out_dir)\n",
    "            \n",
    "            step_params.write(step_path)\n",
    "            \n",
    "    #----------------------------------------\n",
    "    if verbose:\n",
    "        print(step)\n",
    "    return \n",
    "    "
   ]
  },
  {
   "cell_type": "code",
   "execution_count": null,
   "id": "699380eb",
   "metadata": {},
   "outputs": [],
   "source": [
    "tstart = time()\n",
    "vector_simulation(sim_init_cond, out_dir, verbose=False)\n",
    "tend = time()\n",
    "\n",
    "vector_run_time = (tend-tstart)*u.s\n",
    "print('done', 'vector_run_time', vector_run_time)"
   ]
  },
  {
   "cell_type": "markdown",
   "id": "69827123",
   "metadata": {},
   "source": [
    "## Visualization"
   ]
  },
  {
   "cell_type": "markdown",
   "id": "c8cd2256",
   "metadata": {},
   "source": [
    "### By \"Hand\""
   ]
  },
  {
   "cell_type": "code",
   "execution_count": null,
   "id": "fc8fda21",
   "metadata": {},
   "outputs": [],
   "source": [
    "file_path = path.join(out_dir, 'step_00001500.dat')\n",
    "\n",
    "# Load simulation state\n",
    "step_state = SimState.read(file_path)\n",
    "\n",
    "# Get particle distribution \n",
    "dist = step_state.distribution\n",
    "\n",
    "# Plot x and y in cm \n",
    "plt.scatter(dist.x, dist.y)\n",
    "plt.title('Quick Plot')\n",
    "plt.show()\n",
    "\n",
    "# Plot x and y in AU \n",
    "# (you can also use astropy units) \n",
    "plt.scatter(cm_to_au(dist.x), cm_to_au(dist.y), c='k')\n",
    "\n",
    "# Make the sun a star\n",
    "plt.scatter(cm_to_au(dist.x[0]), cm_to_au(dist.y[0]), \n",
    "            marker='*', c='orange', s=100, label='sun')\n",
    "\n",
    "plt.xlim(-38, 38)\n",
    "plt.ylim(-38, 38)\n",
    "plt.title('Solar System in AU')\n",
    "plt.legend()\n",
    "\n",
    "plt.show()"
   ]
  },
  {
   "cell_type": "markdown",
   "id": "b83e443d",
   "metadata": {},
   "source": [
    "### 2D GIF\n",
    "\n",
    "This gif will be saved in the `out_dir`. Its kind of slow but does the job! "
   ]
  },
  {
   "cell_type": "code",
   "execution_count": null,
   "id": "d7a6bf06",
   "metadata": {},
   "outputs": [],
   "source": [
    "peytonites.simulation_to_gif_2d(\n",
    "    out_dir, \n",
    "    gif_filename='solar_sys_2d.gif', \n",
    "    extent=38*u.AU, \n",
    "    unit='AU'\n",
    ")"
   ]
  },
  {
   "cell_type": "markdown",
   "id": "fc7438c4-29af-4c26-9775-7f501b35ab13",
   "metadata": {},
   "source": [
    "![](solar_system_simout/solar_sys_2d.gif)"
   ]
  },
  {
   "cell_type": "markdown",
   "id": "f0350bff",
   "metadata": {},
   "source": [
    "### 3D GIF\n",
    "\n",
    "This gif will be saved in the `out_dir`. Its kind of slow but does the job! "
   ]
  },
  {
   "cell_type": "code",
   "execution_count": null,
   "id": "a083defa",
   "metadata": {
    "scrolled": true
   },
   "outputs": [],
   "source": [
    "peytonites.simulation_to_gif_3d(out_dir, gif_filename='solar_sys_3d.gif', extent=38*u.AU, unit='AU')"
   ]
  },
  {
   "cell_type": "markdown",
   "id": "4c59a83e-a059-4b82-a539-361643ce3b29",
   "metadata": {},
   "source": [
    "![](solar_system_simout/solar_sys_3d.gif)"
   ]
  }
 ],
 "metadata": {
  "kernelspec": {
   "display_name": "Python 3 (ipykernel)",
   "language": "python",
   "name": "python3"
  },
  "language_info": {
   "codemirror_mode": {
    "name": "ipython",
    "version": 3
   },
   "file_extension": ".py",
   "mimetype": "text/x-python",
   "name": "python",
   "nbconvert_exporter": "python",
   "pygments_lexer": "ipython3",
   "version": "3.10.14"
  }
 },
 "nbformat": 4,
 "nbformat_minor": 5
}
